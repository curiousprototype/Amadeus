{
 "cells": [
  {
   "cell_type": "markdown",
   "metadata": {},
   "source": [
    "1. **change figure y axis raange**\n",
    "\n",
    "modify source code: **outputs.py**\n"
   ]
  },
  {
   "cell_type": "code",
   "execution_count": null,
   "metadata": {},
   "outputs": [],
   "source": [
    "def plot_segments(Data, Settings, segments, savefig=False, random_int=None):\n",
    "\n",
    "......\n",
    "\n",
    " ax.set_ylim([\n",
    "        -(Settings.extrema_search_depth + Settings.energy_range + 1),\n",
    "        (Data.CBM - Data.VBM) +\n",
    "        (Settings.extrema_search_depth + Settings.energy_range + 3)\n",
    "])"
   ]
  },
  {
   "cell_type": "markdown",
   "metadata": {},
   "source": [
    "Here set range of y-axis. Thus modify numbers here can modify y-range."
   ]
  },
  {
   "cell_type": "markdown",
   "metadata": {},
   "source": [
    "2. **calculate effective mass at any band-index and any k-point you want**\n",
    "\n",
    "set value ***bk*** of extrema.generate_segments()"
   ]
  },
  {
   "cell_type": "code",
   "execution_count": null,
   "metadata": {},
   "outputs": [],
   "source": [
    "segments = extrema.generate_segments(settings,data,bk=[[6, 0],[6, 100],[6, 200],[7, 0],[7, 100],[7, 200]])"
   ]
  },
  {
   "cell_type": "markdown",
   "metadata": {},
   "source": [
    "This command will calculate effective mass of 6th and 7th band, at Gamma point (0th k-point in your k-path)"
   ]
  },
  {
   "cell_type": "code",
   "execution_count": null,
   "metadata": {},
   "outputs": [],
   "source": [
    "ttt = extrema.find_extrema_indices(data, settings)\n",
    "my_array=np.concatenate((ttt[0],ttt[1]))\n",
    "print(my_array)\n"
   ]
  },
  {
   "cell_type": "markdown",
   "metadata": {},
   "source": [
    "This command can check the VBM and CBM it search automatically in the same form as **bk** above."
   ]
  }
 ],
 "metadata": {
  "kernelspec": {
   "display_name": "Python 3",
   "language": "python",
   "name": "python3"
  },
  "language_info": {
   "name": ""
  }
 },
 "nbformat": 4,
 "nbformat_minor": 4
}
