{
 "cells": [
  {
   "cell_type": "code",
   "execution_count": 2,
   "metadata": {},
   "outputs": [
    {
     "name": "stdout",
     "output_type": "stream",
     "text": [
      "electron Tunneling prob of BA2MAPb2I7 is : 1.366147471410969e-07\n",
      "hole Tunneling prob of BA2MAPb2I7 is : 8.458279991859298e-05\n",
      "electron Tunneling prob of PEA2MAPb2I7 is : 1.3810941228969807e-08\n",
      "hole Tunneling prob of PEA2MAPb2I7 is : 0.00012621496590747448\n",
      "electron Tunneling prob of MA3Pb2I7 is : 1.4350107008609181e-05\n",
      "hole Tunneling prob of MA3Pb2I7 is : 0.0004994678046930459\n",
      "electron Tunneling prob of MA2FAPb2I7 is : 9.781275579335486e-06\n",
      "hole Tunneling prob of MA2FAPb2I7 is : 0.00016924506094621682\n",
      "electron Tunneling prob of FA3Pb2I7 is : 2.163129977575039e-05\n",
      "hole Tunneling prob of FA3Pb2I7 is : 0.0012326992512971648\n",
      "electron Tunneling prob of FA2MAPb2I7 is : 2.870206550087977e-05\n",
      "hole Tunneling prob of FA2MAPb2I7 is : 0.00272406472724063\n"
     ]
    }
   ],
   "source": [
    "import math\n",
    "import numpy as np\n",
    "\n",
    "f = open(\"test.txt\")\n",
    "i=0\n",
    "ep_w = 6.5\n",
    "ep_0 = 8.854e-12\n",
    "charge = 1.6e-19\n",
    "a_H = 5.29e-11 # hydrogen bohr radius\n",
    "Ry = 13.61 # Rydberg energy\n",
    "hbar = 1.05457e-34\n",
    "\n",
    "barrier = []\n",
    "\n",
    "while True:\n",
    "    pvsk = f.readline()\n",
    "    i+=1\n",
    "    \n",
    "    if not pvsk:\n",
    "        break\n",
    "    if i>1:\n",
    "        #print(pvsk)\n",
    "        values = pvsk.split() # split each line's values into a list\n",
    "        hoip = values[0]\n",
    "        ep_hoip = float(values[1])\n",
    "        m_ex = float(values[2])\n",
    "        lw = float(values[3])\n",
    "        lb = float(values[4])\n",
    "        E_g = float(values[5])\n",
    "        HL_g = float(values[6])\n",
    "        m_e = float(values[7])\n",
    "        m_h = float(values[8])\n",
    "        vbo = float(values[9])\n",
    "        cbo = float(values[10])\n",
    "        \n",
    "#        b_height = HL_g - E_g\n",
    "        Tunel_e = math.exp(-2 * (lb/10) * np.sqrt((cbo)*m_e*26.21178))\n",
    "        Tunel_h = math.exp(-2 * (lb/10) * np.sqrt((vbo)*m_h*26.21178))\n",
    "        print('electron Tunneling prob of', hoip, 'is :', Tunel_e)\n",
    "        print('hole Tunneling prob of', hoip, 'is :', Tunel_h)\n",
    "#        print('barrier height is: ', b_height)\n",
    "#        print((1/(1/m_e + 1/m_h)))"
   ]
  },
  {
   "cell_type": "code",
   "execution_count": null,
   "metadata": {},
   "outputs": [],
   "source": []
  }
 ],
 "metadata": {
  "kernelspec": {
   "display_name": "Python 3 (ipykernel)",
   "language": "python",
   "name": "python3"
  },
  "language_info": {
   "codemirror_mode": {
    "name": "ipython",
    "version": 3
   },
   "file_extension": ".py",
   "mimetype": "text/x-python",
   "name": "python",
   "nbconvert_exporter": "python",
   "pygments_lexer": "ipython3",
   "version": "3.8.8"
  }
 },
 "nbformat": 4,
 "nbformat_minor": 4
}
