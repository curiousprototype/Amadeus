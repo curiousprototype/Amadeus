{
 "cells": [
  {
   "cell_type": "code",
   "execution_count": 203,
   "metadata": {},
   "outputs": [
    {
     "name": "stdout",
     "output_type": "stream",
     "text": [
      "0.23271277917156774 0.23301103329418432\n"
     ]
    }
   ],
   "source": [
    "# BA2MAPb2I7\n",
    "import math\n",
    "lw = 12.458e-10 # Angstrom to meter\n",
    "ep_w = 6.5\n",
    "ep_b = 1.35\n",
    "# \n",
    "\n",
    "# test\n",
    "#lw = 14.36e-10 /1.97e-16\n",
    "##ep_w = 6\n",
    "#ep_b = 4\n",
    "#\n",
    "ep_0 = 8.854e-12\n",
    "charge = 1.6e-19\n",
    "dE = 2 * ((ep_w - ep_b) / (ep_w + ep_b)) * (charge**2 / ( 4 * math.pi * ep_w * ep_0 * lw)) # in SI unit, if in CGS unit, there's no ep_0 and 4pi\n",
    "\n",
    "dE1 = dE * 6.242e18\n",
    "dE2 = dE / 1.6e-19\n",
    "\n",
    "print(dE1, dE2)"
   ]
  },
  {
   "cell_type": "code",
   "execution_count": 204,
   "metadata": {},
   "outputs": [
    {
     "name": "stdout",
     "output_type": "stream",
     "text": [
      "1.9933333333333335e-09\n"
     ]
    }
   ],
   "source": [
    "#exciton bohr radius\n",
    "m_ex = 0.1725\n",
    "a_H = 5.29e-11\n",
    "a_ex = (ep_w / m_ex) * a_H\n",
    "print(a_ex)"
   ]
  },
  {
   "cell_type": "code",
   "execution_count": 205,
   "metadata": {},
   "outputs": [
    {
     "name": "stdout",
     "output_type": "stream",
     "text": [
      "0.6543994227971012\n",
      "0.15228710836738318\n"
     ]
    }
   ],
   "source": [
    "import math\n",
    "#lw = 120.36e-10\n",
    "I = (1 - math.exp(-1.7 * lw / a_ex))\n",
    "print(I)\n",
    "print(dE1 * I)"
   ]
  },
  {
   "cell_type": "code",
   "execution_count": 211,
   "metadata": {},
   "outputs": [
    {
     "name": "stdout",
     "output_type": "stream",
     "text": [
      "BA2MAPb2I7 barrier dielectric constant: 1.753\n",
      "BA2MAPb2I7 exciton binding energy by hydrogen-like model: 0.20891971163071188\n",
      "BA2MAPb2I7 Increase of exciton binding energy due to dielectric mismatch: 0.1253728752480407\n",
      "BA2MAPb2I7 Final exciton binding energy: 0.3342925868787526\n",
      "-----------------------------------------------------------------------\n",
      "alpha calcualted by a_ex is:  2.2273186481528207\n",
      "Eb by hydrogen-like model with theoretical alpha: 0.1386962604268129\n",
      "Eb with theoretical alpha:  0.2640691356748536\n",
      "experimental fitted Eb_qce: 0.11810713529917569\n",
      "experimental fitted Eb: 0.24348001054721638\n",
      "##########################################################################\n",
      "PEA2MAPb2I7 barrier dielectric constant: 3.197\n",
      "PEA2MAPb2I7 exciton binding energy by hydrogen-like model: 0.20891971163071188\n",
      "PEA2MAPb2I7 Increase of exciton binding energy due to dielectric mismatch: 0.06630188384004447\n",
      "PEA2MAPb2I7 Final exciton binding energy: 0.27522159547075636\n",
      "-----------------------------------------------------------------------\n",
      "alpha calcualted by a_ex is:  2.2323608515173\n",
      "Eb by hydrogen-like model with theoretical alpha: 0.13756363099227775\n",
      "Eb with theoretical alpha:  0.20386551483232224\n",
      "experimental fitted Eb_qce: 0.11810713529917569\n",
      "experimental fitted Eb: 0.18440901913922014\n",
      "##########################################################################\n",
      "MA3Pb2I7 barrier dielectric constant: 4.398\n",
      "MA3Pb2I7 exciton binding energy by hydrogen-like model: 0.20891971163071188\n",
      "MA3Pb2I7 Increase of exciton binding energy due to dielectric mismatch: 0.030885151562830327\n",
      "MA3Pb2I7 Final exciton binding energy: 0.23980486319354222\n",
      "-----------------------------------------------------------------------\n",
      "alpha calcualted by a_ex is:  2.2297078049980086\n",
      "Eb by hydrogen-like model with theoretical alpha: 0.13815784761397099\n",
      "Eb with theoretical alpha:  0.16904299917680132\n",
      "experimental fitted Eb_qce: 0.11810713529917569\n",
      "experimental fitted Eb: 0.14899228686200602\n",
      "##########################################################################\n",
      "MA2FAPb2I7 barrier dielectric constant: 4.308\n",
      "MA2FAPb2I7 exciton binding energy by hydrogen-like model: 0.23379110587246324\n",
      "MA2FAPb2I7 Increase of exciton binding energy due to dielectric mismatch: 0.03554074656935484\n",
      "MA2FAPb2I7 Final exciton binding energy: 0.26933185244181806\n",
      "-----------------------------------------------------------------------\n",
      "alpha calcualted by a_ex is:  2.2541751426641343\n",
      "Eb by hydrogen-like model with theoretical alpha: 0.1486317555147347\n",
      "Eb with theoretical alpha:  0.18417250208408953\n",
      "experimental fitted Eb_qce: 0.13216750854907752\n",
      "experimental fitted Eb: 0.16770825511843235\n",
      "##########################################################################\n",
      "FA3Pb2I7 barrier dielectric constant: 3.917\n",
      "FA3Pb2I7 exciton binding energy by hydrogen-like model: 0.23379110587246324\n",
      "FA3Pb2I7 Increase of exciton binding energy due to dielectric mismatch: 0.04686719363471527\n",
      "FA3Pb2I7 Final exciton binding energy: 0.2806582995071785\n",
      "-----------------------------------------------------------------------\n",
      "alpha calcualted by a_ex is:  2.2573255608121\n",
      "Eb by hydrogen-like model with theoretical alpha: 0.14788785026630905\n",
      "Eb with theoretical alpha:  0.19475504390102433\n",
      "experimental fitted Eb_qce: 0.13216750854907752\n",
      "experimental fitted Eb: 0.1790347021837928\n",
      "##########################################################################\n",
      "FA2MAPb2I7 barrier dielectric constant: 3.817\n",
      "FA2MAPb2I7 exciton binding energy by hydrogen-like model: 0.20891971163071188\n",
      "FA2MAPb2I7 Increase of exciton binding energy due to dielectric mismatch: 0.047247066337902585\n",
      "FA2MAPb2I7 Final exciton binding energy: 0.2561667779686145\n",
      "-----------------------------------------------------------------------\n",
      "alpha calcualted by a_ex is:  2.227559502366859\n",
      "Eb by hydrogen-like model with theoretical alpha: 0.13864183976280808\n",
      "Eb with theoretical alpha:  0.18588890610071068\n",
      "experimental fitted Eb_qce: 0.11810713529917569\n",
      "experimental fitted Eb: 0.16535420163707826\n",
      "##########################################################################\n"
     ]
    }
   ],
   "source": [
    "import math\n",
    "f = open(\"exciton3.txt\")\n",
    "i=0\n",
    "ep_w = 5.73\n",
    "ep_0 = 8.854e-12\n",
    "charge = 1.6e-19\n",
    "a_H = 5.29e-11 # hydrogen bohr radius\n",
    "Ry = 13.61 # Rydberg energy\n",
    "hbar = 1.05457e-34\n",
    "\n",
    "while True:\n",
    "    pvsk = f.readline()\n",
    "    i+=1\n",
    "    \n",
    "    if not pvsk:\n",
    "        break\n",
    "    if i>1:\n",
    "        #print(pvsk)\n",
    "        values = pvsk.split() # split each line's values into a list\n",
    "        hoip = values[0]\n",
    "        ep_hoip = float(values[1])\n",
    "        m_ex = float(values[2])\n",
    "        lw = float(values[3])\n",
    "        lb = float(values[4])\n",
    "## test ep_w by 2d in-plane dielectric constant\n",
    "#        ep_w = float(values[9])\n",
    "#        ep_b = float(values[10])\n",
    "###############################################        \n",
    "        ep_b = round((ep_hoip * (lw + lb) - ep_w * lw) / lb, 3) # round(a, 3) take 2 effective number\n",
    "        print(hoip, 'barrier dielectric constant:', ep_b)\n",
    "        \n",
    "        E_b = 4 * Ry * m_ex / (ep_w ** 2)\n",
    "        print(hoip, 'exciton binding energy by hydrogen-like model:', E_b)\n",
    "        \n",
    "        lw = lw * 1e-10\n",
    "        dE = 2 * ((ep_w - ep_b) / (ep_w + ep_b)) * (charge**2 / ( 4 * math.pi * ep_w * ep_0 * lw)) # in SI unit, if in CGS unit, there's no ep_0 and 4pi\n",
    "        dE = dE * 6.242e18 # convert Joule to eV\n",
    "        a_ex = (ep_w / m_ex) * a_H  # exciton bohr radius\n",
    "        I = (1 - math.exp(-1.7 * lw / a_ex))\n",
    "        E_die = dE * I\n",
    "        print(hoip, 'Increase of exciton binding energy due to dielectric mismatch:', E_die)\n",
    "        print(hoip, 'Final exciton binding energy:', E_b+E_die)\n",
    "        print('-----------------------------------------------------------------------')\n",
    "        test_alpha = 3 - math.exp(- lw / (2 * a_ex))\n",
    "        E_theory_b = E_b / ((test_alpha - 1)**2)\n",
    "        E_theory = E_theory_b + E_die\n",
    "        print('alpha calcualted by a_ex is: ', test_alpha)\n",
    "        print('Eb by hydrogen-like model with theoretical alpha:', E_theory_b)\n",
    "        print('Eb with theoretical alpha: ', E_theory)\n",
    "        \n",
    "        exp_alpha = 2.33\n",
    "        E_exp_b = E_b / ((exp_alpha - 1)**2)\n",
    "        E_exp = E_exp_b + E_die\n",
    "        print('experimental fitted Eb_qce:', E_exp_b)\n",
    "        print('experimental fitted Eb:', E_exp)\n",
    "        # NC model\n",
    "#        alpha = 3 - 1.76 * math.exp(- lw / (2 * a_ex))\n",
    "#        E_nc = (E_b / 4) * (1 / (1 + (alpha -3)/2)**2)\n",
    "#        E_new = E_b / (alpha -1)**2\n",
    "#        print('NC model alpha:', alpha, 'energy:', E_nc)\n",
    "# Finite barrier height\n",
    "        '''\n",
    "        C = -1.2393\n",
    "        A = 0.9998\n",
    "        B = 0.0014\n",
    "        V = []\n",
    "        E_i = (np.pi * hbar)**2 / (2*(lw**2)*m_ex) * 6.242e18\n",
    "        E_confine = ((np.sqrt(E_i) / (2*C)) * (np.sqrt(E_i/V) - B) + np.sqrt((E_i/(4*(C**2)))*((B-np.sqrt(E_i/V))**2)-A*E_i/C))**2\n",
    "        k_barrier = \n",
    "        '''\n",
    "        print('##########################################################################')"
   ]
  },
  {
   "cell_type": "markdown",
   "metadata": {},
   "source": [
    "Dimension factor /alpha should be tuned by experimental exiton binding energies. It equals 2 only for pure 2D quantum-wells. For finite-height and finite-width quantum-well like 2D perovskites in this case, not a purely 2D or 3D problem. /alpha should be a value between 2 and 3.\n",
    "\n",
    "Experimental BA2MAPb2I7 is 251meV\n",
    "*Scaling law for excitons in 2D perovskite quantum wells. Nature Comm.*\n",
    "Experimental PEA2MAPb2I7 is 175meV\n",
    "*Dielectric confinement effect on excitons in PbI4-based layered semiconductors*\n",
    "\n",
    "Our calculated exciton binding energy only with quantum confinement term (/alpha is only related to this term, dielectric mismatch term is not related.):  BA2MAPb2I7 is 497meV, PEA2MAPb2I7 is 367meV.\n",
    "\n",
    "Thus there's a factor ~ 1/1.41, then we can get more accurate /alpha ~ 2.19 but not 2"
   ]
  },
  {
   "cell_type": "code",
   "execution_count": 27,
   "metadata": {},
   "outputs": [],
   "source": [
    "f.close()"
   ]
  },
  {
   "cell_type": "code",
   "execution_count": 14,
   "metadata": {},
   "outputs": [
    {
     "name": "stdout",
     "output_type": "stream",
     "text": [
      "2.8450229237169644\n",
      "2.890189285225314\n"
     ]
    }
   ],
   "source": [
    "test1 = math.sqrt(497 / 146) + 1\n",
    "print(test1)\n",
    "test2 = math.sqrt(368 / 103) + 1\n",
    "print(test2)"
   ]
  },
  {
   "cell_type": "code",
   "execution_count": 26,
   "metadata": {},
   "outputs": [
    {
     "name": "stdout",
     "output_type": "stream",
     "text": [
      "Requirement already satisfied: sympy in /home/quan/anaconda3/envs/sissonew/lib/python3.8/site-packages (1.9)\n",
      "Requirement already satisfied: mpmath>=0.19 in /home/quan/anaconda3/envs/sissonew/lib/python3.8/site-packages (from sympy) (1.2.1)\n"
     ]
    }
   ],
   "source": [
    "!pip install sympy"
   ]
  },
  {
   "cell_type": "code",
   "execution_count": 31,
   "metadata": {},
   "outputs": [
    {
     "name": "stdout",
     "output_type": "stream",
     "text": [
      "Matrix([[5.02000000000000, -0.0200000000000000, -0.100000000000000], [-0.0200000000000000, 4.88000000000000, -0.260000000000000], [-0.100000000000000, -0.260000000000000, 3.44000000000000]])\n"
     ]
    }
   ],
   "source": [
    "from sympy import *\n",
    "import numpy as np\n",
    "\n",
    "M = Matrix([[5.02, -0.02, -0.10],[-0.02,4.88, -0.26],[-0.10,-0.26,3.44]])\n",
    "print(M)"
   ]
  },
  {
   "cell_type": "code",
   "execution_count": 33,
   "metadata": {},
   "outputs": [
    {
     "name": "stdout",
     "output_type": "stream",
     "text": [
      "{5.02642906265593: 1, 4.92544664661777: 1, 3.38812429072630: 1}\n"
     ]
    }
   ],
   "source": [
    "print(M.eigenvals())"
   ]
  },
  {
   "cell_type": "code",
   "execution_count": null,
   "metadata": {},
   "outputs": [],
   "source": []
  }
 ],
 "metadata": {
  "kernelspec": {
   "display_name": "Python 3 (ipykernel)",
   "language": "python",
   "name": "python3"
  },
  "language_info": {
   "codemirror_mode": {
    "name": "ipython",
    "version": 3
   },
   "file_extension": ".py",
   "mimetype": "text/x-python",
   "name": "python",
   "nbconvert_exporter": "python",
   "pygments_lexer": "ipython3",
   "version": "3.8.8"
  }
 },
 "nbformat": 4,
 "nbformat_minor": 4
}
