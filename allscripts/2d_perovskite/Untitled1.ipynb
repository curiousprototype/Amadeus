{
 "cells": [
  {
   "cell_type": "code",
   "execution_count": 7,
   "metadata": {},
   "outputs": [
    {
     "name": "stdout",
     "output_type": "stream",
     "text": [
      "0.23271277917156774 0.23301103329418432\n"
     ]
    }
   ],
   "source": [
    "# BA2MAPb2I7\n",
    "import math\n",
    "lw = 12.458e-10 # Angstrom to meter\n",
    "ep_w = 6.5\n",
    "ep_b = 1.35\n",
    "# \n",
    "\n",
    "# test\n",
    "#lw = 14.36e-10 /1.97e-16\n",
    "##ep_w = 6\n",
    "#ep_b = 4\n",
    "#\n",
    "ep_0 = 8.854e-12\n",
    "charge = 1.6e-19\n",
    "dE = 2 * ((ep_w - ep_b) / (ep_w + ep_b)) * (charge**2 / ( 4 * math.pi * ep_w * ep_0 * lw)) # in SI unit, if in CGS unit, there's no ep_0 and 4pi\n",
    "\n",
    "dE1 = dE * 6.242e18\n",
    "dE2 = dE / 1.6e-19\n",
    "\n",
    "print(dE1, dE2)"
   ]
  },
  {
   "cell_type": "code",
   "execution_count": 8,
   "metadata": {},
   "outputs": [
    {
     "name": "stdout",
     "output_type": "stream",
     "text": [
      "1.9933333333333335e-09\n"
     ]
    }
   ],
   "source": [
    "#exciton bohr radius\n",
    "m_ex = 0.1725\n",
    "a_H = 5.29e-11\n",
    "a_ex = (ep_w / m_ex) * a_H\n",
    "print(a_ex)"
   ]
  },
  {
   "cell_type": "code",
   "execution_count": 9,
   "metadata": {},
   "outputs": [
    {
     "name": "stdout",
     "output_type": "stream",
     "text": [
      "0.6543994227971012\n",
      "0.15228710836738318\n"
     ]
    }
   ],
   "source": [
    "import math\n",
    "#lw = 120.36e-10\n",
    "I = (1 - math.exp(-1.7 * lw / a_ex))\n",
    "print(I)\n",
    "print(dE1 * I)"
   ]
  },
  {
   "cell_type": "code",
   "execution_count": 10,
   "metadata": {},
   "outputs": [
    {
     "name": "stdout",
     "output_type": "stream",
     "text": [
      "BA2MAPb2I7 barrier dielectric constant: 2.219\n",
      "BA2MAPb2I7 exciton binding energy by hydrogen-like model: 0.22511814744801517\n",
      "BA2MAPb2I7 Increase of exciton binding energy due to dielectric mismatch: 0.10688989152447281\n",
      "BA2MAPb2I7 Final exciton binding energy: 0.332008038972488\n",
      "alpha calcualted by a_ex is:  2.2348623411094097\n",
      "-----------------------------------------------------------------------\n",
      "PEA2MAPb2I7 barrier dielectric constant: 3.695\n",
      "PEA2MAPb2I7 exciton binding energy by hydrogen-like model: 0.22511814744801517\n",
      "PEA2MAPb2I7 Increase of exciton binding energy due to dielectric mismatch: 0.04914576103087909\n",
      "PEA2MAPb2I7 Final exciton binding energy: 0.27426390847889426\n",
      "alpha calcualted by a_ex is:  2.2400446228983366\n",
      "-----------------------------------------------------------------------\n",
      "MA3Pb2I7 barrier dielectric constant: 4.661\n",
      "MA3Pb2I7 exciton binding energy by hydrogen-like model: 0.22511814744801517\n",
      "MA3Pb2I7 Increase of exciton binding energy due to dielectric mismatch: 0.021045659848870607\n",
      "MA3Pb2I7 Final exciton binding energy: 0.24616380729688578\n",
      "alpha calcualted by a_ex is:  2.2373180324745023\n",
      "-----------------------------------------------------------------------\n",
      "MA2FAPb2I7 barrier dielectric constant: 4.57\n",
      "MA2FAPb2I7 exciton binding energy by hydrogen-like model: 0.26978444654484357\n",
      "MA2FAPb2I7 Increase of exciton binding energy due to dielectric mismatch: 0.026030589388426294\n",
      "MA2FAPb2I7 Final exciton binding energy: 0.29581503593326985\n",
      "alpha calcualted by a_ex is:  2.278203073503369\n",
      "-----------------------------------------------------------------------\n",
      "FA3Pb2I7 barrier dielectric constant: 4.165\n",
      "FA3Pb2I7 exciton binding energy by hydrogen-like model: 0.26978444654484357\n",
      "FA3Pb2I7 Increase of exciton binding energy due to dielectric mismatch: 0.03842823440823901\n",
      "FA3Pb2I7 Final exciton binding energy: 0.3082126809530826\n",
      "alpha calcualted by a_ex is:  2.2815916491926265\n",
      "-----------------------------------------------------------------------\n",
      "FA2MAPb2I7 barrier dielectric constant: 3.844\n",
      "FA2MAPb2I7 exciton binding energy by hydrogen-like model: 0.22511814744801517\n",
      "FA2MAPb2I7 Increase of exciton binding energy due to dielectric mismatch: 0.04483172123931704\n",
      "FA2MAPb2I7 Final exciton binding energy: 0.26994986868733223\n",
      "alpha calcualted by a_ex is:  2.2351099158684127\n",
      "-----------------------------------------------------------------------\n"
     ]
    }
   ],
   "source": [
    "import math\n",
    "f = open(\"exciton3.txt\")\n",
    "i=0\n",
    "ep_w = 5.52\n",
    "ep_0 = 8.854e-12\n",
    "charge = 1.6e-19\n",
    "a_H = 5.29e-11 # hydrogen bohr radius\n",
    "Ry = 13.61 # Rydberg energy\n",
    "\n",
    "while True:\n",
    "    pvsk = f.readline()\n",
    "    i+=1\n",
    "    \n",
    "    if not pvsk:\n",
    "        break\n",
    "    if i>1:\n",
    "        #print(pvsk)\n",
    "        values = pvsk.split() # split each line's values into a list\n",
    "        hoip = values[0]\n",
    "        ep_hoip = float(values[1])\n",
    "        m_ex = float(values[2])\n",
    "        lw = float(values[3])\n",
    "        lb = float(values[4])\n",
    "        \n",
    "        ep_b = round((ep_hoip * (lw + lb) - ep_w * lw) / lb, 3) # round(a, 3) take 2 effective number\n",
    "        print(hoip, 'barrier dielectric constant:', ep_b)\n",
    "        \n",
    "        E_b = 4 * Ry * m_ex / (ep_w ** 2)\n",
    "        print(hoip, 'exciton binding energy by hydrogen-like model:', E_b)\n",
    "        \n",
    "        lw = lw * 1e-10\n",
    "        dE = 2 * ((ep_w - ep_b) / (ep_w + ep_b)) * (charge**2 / ( 4 * math.pi * ep_w * ep_0 * lw)) # in SI unit, if in CGS unit, there's no ep_0 and 4pi\n",
    "        dE = dE * 6.242e18 # convert Joule to eV\n",
    "        a_ex = (ep_w / m_ex) * a_H  # exciton bohr radius\n",
    "        I = (1 - math.exp(-1.7 * lw / a_ex))\n",
    "        E_die = dE * I\n",
    "        print(hoip, 'Increase of exciton binding energy due to dielectric mismatch:', E_die)\n",
    "        print(hoip, 'Final exciton binding energy:', E_b+E_die)\n",
    "        \n",
    "        test_alpha = 3 - math.exp(- lw / (2 * a_ex))\n",
    "        print('alpha calcualted by a_ex is: ', test_alpha)\n",
    "        # NC model\n",
    "#        alpha = 3 - 1.76 * math.exp(- lw / (2 * a_ex))\n",
    "#        E_nc = (E_b / 4) * (1 / (1 + (alpha -3)/2)**2)\n",
    "#        E_new = E_b / (alpha -1)**2\n",
    "#        print('NC model alpha:', alpha, 'energy:', E_nc)\n",
    "        print('-----------------------------------------------------------------------')"
   ]
  },
  {
   "cell_type": "code",
   "execution_count": 11,
   "metadata": {},
   "outputs": [],
   "source": [
    "dBA = 310.7 - 251\n",
    "dPEA = 296.0 - 175\n",
    "fac_BA = 310.7 / 251\n",
    "fac_PEA = 296.0 / 175\n",
    "alpha_new = math.sqrt(fac_BA) + 1\n",
    "alpha_new2 = math.sqrt(fac_PEA) + 1"
   ]
  },
  {
   "cell_type": "code",
   "execution_count": 12,
   "metadata": {},
   "outputs": [
    {
     "name": "stdout",
     "output_type": "stream",
     "text": [
      "2.1125864485862165 2.300549334484691\n"
     ]
    }
   ],
   "source": [
    "print(alpha_new, alpha_new2)"
   ]
  },
  {
   "cell_type": "code",
   "execution_count": 7,
   "metadata": {},
   "outputs": [],
   "source": [
    "test_alpha = 3 - math.exp(- lw / (2 * a_ex))"
   ]
  },
  {
   "cell_type": "code",
   "execution_count": 8,
   "metadata": {},
   "outputs": [
    {
     "name": "stdout",
     "output_type": "stream",
     "text": [
      "2.2510125180180816\n"
     ]
    }
   ],
   "source": [
    "print(test_alpha)"
   ]
  },
  {
   "cell_type": "code",
   "execution_count": 2,
   "metadata": {},
   "outputs": [
    {
     "name": "stdout",
     "output_type": "stream",
     "text": [
      "0.15104477611940298\n"
     ]
    }
   ],
   "source": [
    "a = 0.44\n",
    "b = 0.23\n",
    "mex = 1 / (1/a + 1/b)\n",
    "print(mex)"
   ]
  },
  {
   "cell_type": "code",
   "execution_count": null,
   "metadata": {},
   "outputs": [],
   "source": []
  }
 ],
 "metadata": {
  "kernelspec": {
   "display_name": "Python 3 (ipykernel)",
   "language": "python",
   "name": "python3"
  },
  "language_info": {
   "codemirror_mode": {
    "name": "ipython",
    "version": 3
   },
   "file_extension": ".py",
   "mimetype": "text/x-python",
   "name": "python",
   "nbconvert_exporter": "python",
   "pygments_lexer": "ipython3",
   "version": "3.8.8"
  }
 },
 "nbformat": 4,
 "nbformat_minor": 4
}
